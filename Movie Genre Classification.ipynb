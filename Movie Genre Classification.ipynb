{
 "cells": [
  {
   "cell_type": "code",
   "execution_count": 4,
   "metadata": {},
   "outputs": [],
   "source": [
    "import pandas as pd\n",
    "import neuralcoref\n",
    "import spacy"
   ]
  },
  {
   "cell_type": "code",
   "execution_count": 6,
   "metadata": {},
   "outputs": [
    {
     "data": {
      "text/html": [
       "<div>\n",
       "<style scoped>\n",
       "    .dataframe tbody tr th:only-of-type {\n",
       "        vertical-align: middle;\n",
       "    }\n",
       "\n",
       "    .dataframe tbody tr th {\n",
       "        vertical-align: top;\n",
       "    }\n",
       "\n",
       "    .dataframe thead th {\n",
       "        text-align: right;\n",
       "    }\n",
       "</style>\n",
       "<table border=\"1\" class=\"dataframe\">\n",
       "  <thead>\n",
       "    <tr style=\"text-align: right;\">\n",
       "      <th></th>\n",
       "      <th>title</th>\n",
       "      <th>plot</th>\n",
       "    </tr>\n",
       "  </thead>\n",
       "  <tbody>\n",
       "    <tr>\n",
       "      <th>0</th>\n",
       "      <td>\"#7DaysLater\" (2013)</td>\n",
       "      <td>#7dayslater is an interactive comedy series f...</td>\n",
       "    </tr>\n",
       "    <tr>\n",
       "      <th>1</th>\n",
       "      <td>\"#BlackLove\" (2015) {Crash the Party (#1.9)}</td>\n",
       "      <td>With just one week left in the workshops, the...</td>\n",
       "    </tr>\n",
       "    <tr>\n",
       "      <th>2</th>\n",
       "      <td>\"#BlackLove\" (2015) {Making Lemonade Out of Le...</td>\n",
       "      <td>All of the women start making strides towards...</td>\n",
       "    </tr>\n",
       "    <tr>\n",
       "      <th>3</th>\n",
       "      <td>\"#BlackLove\" (2015) {Miss Independent (#1.5)}</td>\n",
       "      <td>All five of these women are independent and s...</td>\n",
       "    </tr>\n",
       "    <tr>\n",
       "      <th>4</th>\n",
       "      <td>\"#BlackLove\" (2015) {Sealing the Deal (#1.10)}</td>\n",
       "      <td>Despite having gone through a life changing p...</td>\n",
       "    </tr>\n",
       "  </tbody>\n",
       "</table>\n",
       "</div>"
      ],
      "text/plain": [
       "                                               title  \\\n",
       "0                               \"#7DaysLater\" (2013)   \n",
       "1       \"#BlackLove\" (2015) {Crash the Party (#1.9)}   \n",
       "2  \"#BlackLove\" (2015) {Making Lemonade Out of Le...   \n",
       "3      \"#BlackLove\" (2015) {Miss Independent (#1.5)}   \n",
       "4     \"#BlackLove\" (2015) {Sealing the Deal (#1.10)}   \n",
       "\n",
       "                                                plot  \n",
       "0   #7dayslater is an interactive comedy series f...  \n",
       "1   With just one week left in the workshops, the...  \n",
       "2   All of the women start making strides towards...  \n",
       "3   All five of these women are independent and s...  \n",
       "4   Despite having gone through a life changing p...  "
      ]
     },
     "execution_count": 6,
     "metadata": {},
     "output_type": "execute_result"
    }
   ],
   "source": [
    "# baca file dataset\n",
    "df = pd.read_csv('movies_genres.csv', sep='\\t', nrows=1000)\n",
    "\n",
    "# aku kepikirannya bikin model buat setiap genre, jadi labelnya dipisah\n",
    "label_action = df['Action']\n",
    "label_adult = df['Adult']\n",
    "label_adventure = df['Adventure']\n",
    "label_animation = df['Animation']\n",
    "label_biography = df['Biography']\n",
    "label_comedy = df['Comedy']\n",
    "label_crime = df['Crime']\n",
    "label_documentary = df['Documentary']\n",
    "label_drama = df['Drama']\n",
    "label_family = df['Family']\n",
    "label_fantasy = df['Fantasy']\n",
    "label_gameshow = df['Game-Show']\n",
    "label_history = df['History']\n",
    "label_horror = df['Horror']\n",
    "label_lifestyle = df['Lifestyle']\n",
    "label_music = df['Music']\n",
    "label_musical = df['Musical']\n",
    "label_mystery = df['Mystery']\n",
    "label_news = df['News']\n",
    "label_reality = df['Reality-TV']\n",
    "label_romance = df['Romance']\n",
    "label_scifi = df['Sci-Fi']\n",
    "label_short = df['Short']\n",
    "label_sport = df['Sport']\n",
    "label_talkshow = df['Talk-Show']\n",
    "label_thriller = df['Thriller']\n",
    "label_war = df['War']\n",
    "label_western = df['Western']\n",
    "df = df.drop(columns=['Action', 'Adult', 'Adventure', 'Animation', 'Biography', 'Comedy', 'Crime', 'Documentary', 'Drama', 'Family', 'Fantasy', 'Game-Show', 'History', 'Horror', 'Lifestyle', 'Music', 'Musical', 'Mystery', 'News', 'Reality-TV', 'Romance', 'Sci-Fi', 'Short', 'Sport', 'Talk-Show', 'Thriller', 'War', 'Western'])\n",
    "\n",
    "df.head()"
   ]
  },
  {
   "cell_type": "code",
   "execution_count": 7,
   "metadata": {},
   "outputs": [],
   "source": [
    "# coreference resolution\n",
    "\n",
    "# experiment\n",
    "text = \"\"\"\n",
    "\n",
    "Walt Disney was born on December 5, 1901. Disney became one of the best-known motion picture producers in the world. He is particularly noted for being a film producer and a popular showman, as well as an innovator in animation and theme park design.\n",
    "\n",
    "Disney is famous for his contributions in the field of entertainment during the 20th century. His first success was through the series, Oswald the Lucky Rabbit which was created by the Disney studio for Charles Mintz of Universal Studios. When Disney asked for a larger budget for his popular Oswald series, Mintz refused and Disney had to quit. Later, Disney and his brother Roy O. Disney started from scratch and co-founded Walt Disney Productions, now known as The Walt Disney Company. Today, this company has annual revenues of approximately U.S. $35 billion. This success is largely due to a number of the world's most famous fictional characters he and his staff created including Mickey Mouse, a character for which Disney himself was the original voice.\n",
    "\n",
    "Disney won 26 Academy Awards out of 59 nominations, including a record four in one year, giving him more awards and nominations than any other individual. He is also the namesake for Disneyland and Walt Disney World Resort theme parks in the United States, as well as the international resorts in Japan, France, and China.\n",
    "\n",
    "Disney died of lung cancer in Burbank, California, on December 15, 1966. The following year, construction began on Walt Disney World Resort in Florida. His brother Roy Disney inaugurated The Magic Kingdom on October 1, 1971.\n",
    "\n",
    "\"\"\"\n",
    "\n",
    "nlp = spacy.load('en_core_web_sm')\n",
    "neuralcoref.add_to_pipe(nlp, greedyness=0.45, max_dist=40, max_dist_match=500)\n",
    "doc = nlp(text)\n",
    "\n",
    "# print(doc._.coref_clusters)\n",
    "# print(doc._.coref_resolved)\n",
    "\n",
    "# pre-processing\n",
    "def coref_resolution(dataframe, nlp):\n",
    "    for i in range(0, len(dataframe)):\n",
    "        doc = nlp(dataframe['plot'][i])\n",
    "        dataframe.at[i, 'plot'] = doc._.coref_resolved\n",
    "    \n",
    "coref_resolution(df, nlp)"
   ]
  },
  {
   "cell_type": "code",
   "execution_count": 10,
   "metadata": {},
   "outputs": [],
   "source": [
    "# lemmatization"
   ]
  },
  {
   "cell_type": "code",
   "execution_count": null,
   "metadata": {},
   "outputs": [],
   "source": [
    "# pos tag"
   ]
  },
  {
   "cell_type": "code",
   "execution_count": null,
   "metadata": {},
   "outputs": [],
   "source": [
    "# ner"
   ]
  },
  {
   "cell_type": "code",
   "execution_count": null,
   "metadata": {},
   "outputs": [],
   "source": [
    "# event extraction"
   ]
  },
  {
   "cell_type": "code",
   "execution_count": null,
   "metadata": {},
   "outputs": [],
   "source": [
    "# main program (learning)"
   ]
  }
 ],
 "metadata": {
  "kernelspec": {
   "display_name": "Python 3",
   "language": "python",
   "name": "python3"
  },
  "language_info": {
   "codemirror_mode": {
    "name": "ipython",
    "version": 3
   },
   "file_extension": ".py",
   "mimetype": "text/x-python",
   "name": "python",
   "nbconvert_exporter": "python",
   "pygments_lexer": "ipython3",
   "version": "3.6.8"
  }
 },
 "nbformat": 4,
 "nbformat_minor": 2
}
